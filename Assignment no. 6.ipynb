{
 "cells": [
  {
   "cell_type": "code",
   "execution_count": 1,
   "id": "0fbe8755",
   "metadata": {},
   "outputs": [
    {
     "name": "stdout",
     "output_type": "stream",
     "text": [
      "my name is \"suyash\"\n"
     ]
    }
   ],
   "source": [
    "#QUE 1. What are escape characters, and how do you use them?\n",
    "    \n",
    "#Ans-   escape character is a backslash \\ \n",
    "#       for example :\n",
    "\n",
    "#a = \"my name is \"suyash\"\"\n",
    "#print(a)\n",
    "\n",
    "#        this will give syntax error so we cant use double quote inside double qoute \n",
    "#        so now we use escape character \\ \n",
    "\n",
    "b = \"my name is \\\"suyash\\\"\"\n",
    "print(b)\n",
    "\n",
    "#       here we can use double quote inside double qote with the help of escape character.\n",
    "\n",
    "#       other escape characters:\n",
    "#       \\n   for new line\n",
    "#       \\r   carriage return\n",
    "#       \\t   Tab\n",
    "#       etc."
   ]
  },
  {
   "cell_type": "code",
   "execution_count": 2,
   "id": "413b553f",
   "metadata": {},
   "outputs": [],
   "source": [
    "#QUE 2. What do the escape characters n and t stand for?\n",
    "    \n",
    "#Ans-   \\n   for new line\n",
    "#       \\t   for Tab"
   ]
  },
  {
   "cell_type": "code",
   "execution_count": 3,
   "id": "d56815ca",
   "metadata": {},
   "outputs": [
    {
     "name": "stdout",
     "output_type": "stream",
     "text": [
      "my name is \"suyash\"\n"
     ]
    }
   ],
   "source": [
    "#QUE 3. What is the way to include backslash characters in a string?\n",
    "    \n",
    "#Ans-   backslash is a escape character\n",
    "\n",
    "\"\"\"a = \"my name is \"suyash\"\"\n",
    "   print(a)\"\"\"\n",
    "\n",
    "#        this will give syntax error so we cant use double quote inside double qoute \n",
    "#        so now we use escape character \\ \n",
    "\n",
    "b = \"my name is \\\"suyash\\\"\"\n",
    "print(b)\n",
    "\n",
    "#       here we able to use double quote inside double quote with the help of escape character."
   ]
  },
  {
   "cell_type": "code",
   "execution_count": 4,
   "id": "95d78f91",
   "metadata": {},
   "outputs": [
    {
     "data": {
      "text/plain": [
       "'Howl\"s Moving Castle'"
      ]
     },
     "execution_count": 4,
     "metadata": {},
     "output_type": "execute_result"
    }
   ],
   "source": [
    "#QUE 4. The string \"Howl's Moving Castle\" is a correct value. Why isn't the single quote character in the\n",
    "#       word Howl's not escaped a problem?\n",
    "    \n",
    "#Ans-\n",
    "\"Howl's Moving Castle\"\n",
    "#      In this single quote is fine if we use double in double quote so it will escape a problem but single quote \n",
    "#      in double quote is allowed\n",
    "#      and in begining and end we used double quote to the string.\n",
    "#      or if we do vice versa it is also fine like below \n",
    "'Howl\"s Moving Castle'"
   ]
  },
  {
   "cell_type": "code",
   "execution_count": 5,
   "id": "d643a8e4",
   "metadata": {},
   "outputs": [
    {
     "name": "stdout",
     "output_type": "stream",
     "text": [
      "ineuron fsds\n"
     ]
    }
   ],
   "source": [
    "#QUE 5. How do you write a string of newlines if you don't want to use the n character?\n",
    "    \n",
    "#Ans-  for the string of new line if we dont want to use n character so we use end parameter which is default set to \\n\n",
    "#      we will set end parameter as space so below output will come without going to new line it will come in same line.\n",
    "\n",
    "print('ineuron',end=' ')\n",
    "print('fsds')"
   ]
  },
  {
   "cell_type": "code",
   "execution_count": 6,
   "id": "3470481d",
   "metadata": {},
   "outputs": [
    {
     "name": "stdout",
     "output_type": "stream",
     "text": [
      "e\n",
      "Hello\n",
      "Hello\n",
      "lo, world!\n"
     ]
    }
   ],
   "source": [
    "#QUE 6. What are the values of the given expressions?\n",
    "#       'Hello, world!'[1]      -----   e\n",
    "#       'Hello, world!'[0:5]    -----   Hello\n",
    "#       'Hello, world!'[:5]     -----   Hello\n",
    "#       'Hello, world!'[3:]     -----   lo, world!\n",
    "    \n",
    "#Ans-\n",
    "\n",
    "print('Hello, world!'[1])\n",
    "print('Hello, world!'[0:5])\n",
    "print('Hello, world!'[:5])\n",
    "print('Hello, world!'[3:])\n",
    "\n",
    "# this are values."
   ]
  },
  {
   "cell_type": "code",
   "execution_count": 7,
   "id": "c737aaea",
   "metadata": {},
   "outputs": [
    {
     "name": "stdout",
     "output_type": "stream",
     "text": [
      "HELLO\n",
      "True\n",
      "hello\n"
     ]
    }
   ],
   "source": [
    "#QUE 7. What are the values of the following expressions?\n",
    "#       'Hello'.upper()             ----   HELLO\n",
    "#       'Hello'.upper().isupper()   ----   True\n",
    "#       'Hello'.upper().lower()     ----   hello\n",
    "    \n",
    "#Ans-\n",
    "\n",
    "print('Hello'.upper())\n",
    "print('Hello'.upper().isupper())\n",
    "print('Hello'.upper().lower())\n",
    "\n",
    "# this are values."
   ]
  },
  {
   "cell_type": "code",
   "execution_count": 8,
   "id": "171a9d99",
   "metadata": {},
   "outputs": [
    {
     "name": "stdout",
     "output_type": "stream",
     "text": [
      "['Remember,', 'remember,', 'the', 'fifth', 'of', 'July.']\n",
      "There-can-only-one.\n"
     ]
    }
   ],
   "source": [
    "#QUE 8. What are the values of the following expressions?\n",
    "#       'Remember, remember, the fifth of July.'.split() ----   ['Remember,', 'remember,', 'the', 'fifth', 'of', 'July.']\n",
    "#       '-'.join('There can only one.'.split())          ----   There-can-only-one.\n",
    "    \n",
    "#Ans-\n",
    "\n",
    "print('Remember, remember, the fifth of July.'.split())\n",
    "print('-'.join('There can only one.'.split()))\n",
    "\n",
    "# this are values."
   ]
  },
  {
   "cell_type": "code",
   "execution_count": 9,
   "id": "430dd581",
   "metadata": {},
   "outputs": [],
   "source": [
    "#QUE 9. What are the methods for right-justifying, left-justifying, and centering a string?\n",
    "    \n",
    "#Ans-\n",
    "#      The methods are:\n",
    "\n",
    "#      str.ljust()      -----    left-justifying a string\n",
    "#      str.rjust()      -----    right-justifying a string\n",
    "#      str.center()     -----    centering a string."
   ]
  },
  {
   "cell_type": "code",
   "execution_count": 10,
   "id": "2848dde5",
   "metadata": {},
   "outputs": [
    {
     "data": {
      "text/plain": [
       "'suyash'"
      ]
     },
     "execution_count": 10,
     "metadata": {},
     "output_type": "execute_result"
    }
   ],
   "source": [
    "#QUE 10. What is the best way to remove whitespace characters from the start or end?\n",
    "    \n",
    "#Ans-    use the .strip() method to remove whitespace from start and the end.\n",
    "#        for example:\n",
    "a = '   suyash    '\n",
    "a.strip()"
   ]
  }
 ],
 "metadata": {
  "kernelspec": {
   "display_name": "Python 3 (ipykernel)",
   "language": "python",
   "name": "python3"
  },
  "language_info": {
   "codemirror_mode": {
    "name": "ipython",
    "version": 3
   },
   "file_extension": ".py",
   "mimetype": "text/x-python",
   "name": "python",
   "nbconvert_exporter": "python",
   "pygments_lexer": "ipython3",
   "version": "3.9.12"
  }
 },
 "nbformat": 4,
 "nbformat_minor": 5
}
