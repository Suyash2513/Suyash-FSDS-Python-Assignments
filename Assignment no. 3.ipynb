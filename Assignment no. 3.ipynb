{
 "cells": [
  {
   "cell_type": "code",
   "execution_count": 1,
   "id": "d79c7aa3",
   "metadata": {},
   "outputs": [],
   "source": [
    "#QUE 1. Why are functions advantageous to have in your programs?\n",
    "\n",
    "#Ans-   - main advantages of function is when we create function for one time no need to write same function same\n",
    "#         same function whenever we need that functions wecan import it directly and reuse it again and again \n",
    "#         instead of writing same line of code again and again \n",
    "#       - Functions offers reuseabilty andd reduce the need of duplicate code\n",
    "#       - makes programme shorter, easy to read."
   ]
  },
  {
   "cell_type": "code",
   "execution_count": 2,
   "id": "ed7f19dc",
   "metadata": {},
   "outputs": [],
   "source": [
    "#QUE 2. When does the code in a function run: when it's specified or when it's called?\n",
    "\n",
    "#Ans-   The code in function run when the function is called not when function is specified."
   ]
  },
  {
   "cell_type": "code",
   "execution_count": 3,
   "id": "e78366a9",
   "metadata": {},
   "outputs": [],
   "source": [
    "#QUE 3. What statement creates a function?\n",
    "\n",
    "#Ans-   The def statement creates the function."
   ]
  },
  {
   "cell_type": "code",
   "execution_count": 4,
   "id": "356d764d",
   "metadata": {},
   "outputs": [
    {
     "data": {
      "text/plain": [
       "'Hello'"
      ]
     },
     "execution_count": 4,
     "metadata": {},
     "output_type": "execute_result"
    }
   ],
   "source": [
    "#QUE 4. What is the difference between a function and a function call?\n",
    "\n",
    "#Ans-   - The function contains in its def statement and also code of function, it is just function creation.\n",
    "#       - function call is whenever we have to run the code available in function that we created \n",
    "#         we have to call the function and it return output after we call and run the code.\n",
    "\n",
    "#for example:-\n",
    "#Function:\n",
    "def code():\n",
    "    return 'Hello'\n",
    "#Function call:\n",
    "code()"
   ]
  },
  {
   "cell_type": "code",
   "execution_count": 5,
   "id": "9b74c4b4",
   "metadata": {},
   "outputs": [],
   "source": [
    "#QUE 5. How many global scopes are there in a Python program? How many local scopes?\n",
    "\n",
    "#Ans- - local scope is a variable created inside the function belongs to local scope of that function and can only be used\n",
    "#       inside the function\n",
    "\n",
    "#     - Global scope is a variable created in main body of code belongs to global scope and Global variables \n",
    "#       are available to use from within any scope whether it is global or local scope."
   ]
  },
  {
   "cell_type": "code",
   "execution_count": 6,
   "id": "5aa65ab0",
   "metadata": {},
   "outputs": [],
   "source": [
    "#QUE 6. What happens to variables in a local scope when the function call returns?\n",
    "\n",
    "#Ans-   When the function call returns and teminates the function then the local variable is destroyed \n",
    "#       in that local scope only."
   ]
  },
  {
   "cell_type": "code",
   "execution_count": 7,
   "id": "b3e4a2be",
   "metadata": {},
   "outputs": [],
   "source": [
    "#QUE 7. What is the concept of a return value? Is it possible to have a return value in an expression?\n",
    "\n",
    "#Ans-  A return statement is used to get output of the executed function and returns the result and \n",
    "#      it can be a part of an expression."
   ]
  },
  {
   "cell_type": "code",
   "execution_count": 8,
   "id": "d9ced8be",
   "metadata": {},
   "outputs": [],
   "source": [
    "#QUE 8. If a function does not have a return statement, what is the return value of a call to that function?\n",
    "\n",
    "#Ans-   If a function oes not have a return statement, then the return value of a call to function is None."
   ]
  },
  {
   "cell_type": "code",
   "execution_count": 9,
   "id": "abe13301",
   "metadata": {},
   "outputs": [],
   "source": [
    "#QUE 9. How do you make a function variable refer to the global variable?\n",
    "\n",
    "#Ans-   When we creat a variable inside function by default its a local variable and can only used inside the function\n",
    "#       To create the global variable inside the function we have to use global statement."
   ]
  },
  {
   "cell_type": "code",
   "execution_count": 10,
   "id": "db9e7f4e",
   "metadata": {},
   "outputs": [],
   "source": [
    "#QUE 10. What is the data type of None?\n",
    "\n",
    "#Ans-    Data type of none is NoneType."
   ]
  },
  {
   "cell_type": "code",
   "execution_count": 11,
   "id": "1ff4b474",
   "metadata": {},
   "outputs": [],
   "source": [
    "#QUE 11. What does the sentence import areallyourpetsnamederic do?\n",
    "\n",
    "#Ans-    import statement imports module named as areallyourpetsnamederic"
   ]
  },
  {
   "cell_type": "code",
   "execution_count": 12,
   "id": "2032c502",
   "metadata": {},
   "outputs": [],
   "source": [
    "#QUE 12. If you had a bacon() feature in a spam module, what would you call it after importing spam?\n",
    "\n",
    "#Ans-    After importing spam we can call bacon() feature as spam.bacon()."
   ]
  },
  {
   "cell_type": "code",
   "execution_count": 13,
   "id": "52e0ce0a",
   "metadata": {},
   "outputs": [],
   "source": [
    "#QUE 13. What can you do to save a programme from crashing if it encounters an error?\n",
    "\n",
    "#Ans-    If the program error is syntactical then we have to make syntax and indentation correct to avoid error\n",
    "#        If error is because of non syntactical or programmer error then we have to take try block for error handling."
   ]
  },
  {
   "cell_type": "code",
   "execution_count": 14,
   "id": "9609fc0f",
   "metadata": {},
   "outputs": [],
   "source": [
    "#QUE 14. What is the purpose of the try clause? What is the purpose of the except clause?\n",
    "\n",
    "#Ans-    Try clause allows to test the code for errors\n",
    "#        and Except clause allows to handle the error ."
   ]
  }
 ],
 "metadata": {
  "kernelspec": {
   "display_name": "Python 3 (ipykernel)",
   "language": "python",
   "name": "python3"
  },
  "language_info": {
   "codemirror_mode": {
    "name": "ipython",
    "version": 3
   },
   "file_extension": ".py",
   "mimetype": "text/x-python",
   "name": "python",
   "nbconvert_exporter": "python",
   "pygments_lexer": "ipython3",
   "version": "3.9.12"
  }
 },
 "nbformat": 4,
 "nbformat_minor": 5
}
