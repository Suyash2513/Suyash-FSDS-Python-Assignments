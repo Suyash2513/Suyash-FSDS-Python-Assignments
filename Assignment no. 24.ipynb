{
 "cells": [
  {
   "cell_type": "code",
   "execution_count": 1,
   "id": "f35d6e25",
   "metadata": {},
   "outputs": [],
   "source": [
    "#QUE 1. What is the relationship between def statements and lambda expressions ?\n",
    "\n",
    "#Ans-  -def defined functions are commonly used because of their simplicity. \n",
    "#      -The def defined functions do not return anything if not explicitly returned \n",
    "#       whereas the lambda function does return an object. \n",
    "#      -The def functions must be declared in the namespace. \n",
    "#      -The def functions can perform any python task including multiple conditions, \n",
    "#       nested conditions or loops of any level, printing, importing libraries, raising Exceptions, etc.\n",
    "#      -def is easy to interpret and in lambda Interpretation might be tricky\n",
    "#      -The limited operation can be performed using lambda functions"
   ]
  },
  {
   "cell_type": "code",
   "execution_count": 2,
   "id": "c6a29f5a",
   "metadata": {},
   "outputs": [
    {
     "name": "stdout",
     "output_type": "stream",
     "text": [
      "8\n",
      "8\n"
     ]
    }
   ],
   "source": [
    "#QUE 2. What is the benefit of lambda?\n",
    "\n",
    "#Ans-  The lambda keyword in Python provides a shortcut for declaring small anonymous functions. \n",
    "#      Lambda functions behave just like regular functions declared with the def keyword. \n",
    "#      They can be used whenever function objects are required.\n",
    "\n",
    "add = lambda x, y: x + y   # using lambda \n",
    "print(add(5, 3))\n",
    "\n",
    "def addition(x, y):     # using def \n",
    "    return x + y\n",
    "print(addition(5, 3))"
   ]
  },
  {
   "cell_type": "code",
   "execution_count": 3,
   "id": "5edf75f2",
   "metadata": {},
   "outputs": [
    {
     "name": "stdout",
     "output_type": "stream",
     "text": [
      "Map -> [2, 3, 4, 5]\n",
      "Filter -> [1, 2, 4]\n",
      "Reduce -> 21\n"
     ]
    }
   ],
   "source": [
    "#QUE 3. Compare and contrast map, filter, and reduce.\n",
    "\n",
    "#Ans- -map() function iterates through all items in the given iterable and executes the function \n",
    "#           we passed as an argument on each of them.\n",
    "#     -Similar to map(), filter() takes a function object and an iterable and creates a new list.           \n",
    "#     -reduce() works differently than map() and filter(). \n",
    "#      It does not return a new list based on the function and iterable we've passed. Instead, it returns a single value.\n",
    "# example :\n",
    "from functools import reduce\n",
    "# map function\n",
    "print('Map ->',list(map(lambda x:x+1, [1,2,3,4])))\n",
    "# fitler function\n",
    "print('Filter ->',list(filter(lambda x:x%3 !=0, [1,2,3,4])))\n",
    "# reduce function\n",
    "print('Reduce ->',reduce(lambda x,y:x+y, [1,2,3,4,5,6]))"
   ]
  },
  {
   "cell_type": "code",
   "execution_count": 4,
   "id": "b91d9f60",
   "metadata": {},
   "outputs": [],
   "source": [
    "#QUE 4. What are function annotations, and how are they used?\n",
    "\n",
    "#Ans-   Function annotations are arbitrary python expressions that are associated with various part of functions. \n",
    "#       These expressions are evaluated at compile time and have no life in python’s runtime environment. \n",
    "#       Python does not attach any meaning to these annotations.\n",
    "#       -Annotations of simple parameters def func(x: expression, y: expression = 20):\n",
    "#       -Whereas the annotations for excess parameters are as − def func (**args: expression, **kwargs: expression):"
   ]
  },
  {
   "cell_type": "code",
   "execution_count": 5,
   "id": "ef3f1e52",
   "metadata": {},
   "outputs": [
    {
     "data": {
      "text/plain": [
       "24"
      ]
     },
     "execution_count": 5,
     "metadata": {},
     "output_type": "execute_result"
    }
   ],
   "source": [
    "#QUE 5. What are recursive functions, and how are they used?\n",
    "\n",
    "#Ans-  -A recursive function is a function defined in terms of itself via self-referential expressions. \n",
    "#      -This means that the function will continue to call itself and repeat its behavior until some \n",
    "#       condition is met to return a result.\n",
    "\n",
    "#       example:\n",
    "\n",
    "def factorial(x):\n",
    "    \"\"\"This is a recursive function\n",
    "    to find the factorial of an integer\"\"\"\n",
    "\n",
    "    if x == 1:\n",
    "        return 1\n",
    "    else:\n",
    "        return (x * factorial(x-1))\n",
    "factorial(4)"
   ]
  },
  {
   "cell_type": "code",
   "execution_count": 6,
   "id": "6954fcbb",
   "metadata": {},
   "outputs": [],
   "source": [
    "#QUE 6. What are some general design guidelines for coding functions?\n",
    "\n",
    "#Ans-  -Use 4 spaces instead of tabs\n",
    "#      -Maximum line length is 120 symbols\n",
    "#      -2 blank lines between classes and functions\n",
    "#      -1 blank line within class between class methods\n",
    "#      -No blank line following a def line.\n",
    "#      -No whitespace inside parentheses, brackets, or braces.\n",
    "#      -Move function arguments to a new line with an indentation, if they do not fit into the specified line length\n",
    "#      -Use snake_case for modules, variables, attributes, functions, and method names, not CamelCase\n",
    "#      -Use CamelCase for class names and fabrics\n",
    "#      -Write docstrings for each method that is more complicated than hello world. \n",
    "#       In docstring summarize function/method behavior and document its arguments, return value(s), \n",
    "#       side effects, exceptions raised, and restrictions\n",
    "#      -Wrap docstrings with triple double quotes \"\"\"Docstring\"\"\"\n",
    "#      these are some general design guidelines for coding functions"
   ]
  },
  {
   "cell_type": "code",
   "execution_count": 7,
   "id": "4ca378e3",
   "metadata": {},
   "outputs": [],
   "source": [
    "#QUE 7. Name three or more ways that functions can communicate results to a caller.\n",
    "\n",
    "#Ans- ways to communicate results to caller :\n",
    "#     1. print\n",
    "#     2. return\n",
    "#     3. yield\n"
   ]
  }
 ],
 "metadata": {
  "kernelspec": {
   "display_name": "Python 3 (ipykernel)",
   "language": "python",
   "name": "python3"
  },
  "language_info": {
   "codemirror_mode": {
    "name": "ipython",
    "version": 3
   },
   "file_extension": ".py",
   "mimetype": "text/x-python",
   "name": "python",
   "nbconvert_exporter": "python",
   "pygments_lexer": "ipython3",
   "version": "3.9.13"
  }
 },
 "nbformat": 4,
 "nbformat_minor": 5
}
