{
 "cells": [
  {
   "cell_type": "code",
   "execution_count": 1,
   "id": "716fbc17",
   "metadata": {},
   "outputs": [],
   "source": [
    "#QUE 1. What does an empty dictionary's code look like?\n",
    "    \n",
    "#Ans-   empty dictionary look like this {} empty set of curly braces"
   ]
  },
  {
   "cell_type": "code",
   "execution_count": 2,
   "id": "892b5433",
   "metadata": {},
   "outputs": [
    {
     "name": "stdout",
     "output_type": "stream",
     "text": [
      "{'foo': 42}\n"
     ]
    }
   ],
   "source": [
    "#QUE 2. What is the value of a dictionary value with the key 'foo' and the value 42?\n",
    "    \n",
    "#Ans-\n",
    "\n",
    "a = {'foo':42}\n",
    "print(a)"
   ]
  },
  {
   "cell_type": "code",
   "execution_count": 3,
   "id": "186da7d5",
   "metadata": {},
   "outputs": [],
   "source": [
    "#QUE 3. What is the most significant distinction between a dictionary and a list?\n",
    "    \n",
    "#Ans-   -Indices of list are integers starting from 0 and in dictionary indicesare the keys which we provide with different\n",
    "#        data types\n",
    "#       -the elements are accessed via indices in list and in dictionary its accessed via key-values.\n",
    "#       -list is ordered entity where dictionary will not maintain order\n",
    "#       -list sign [] example:- a = [1,2,3,4] and dictionary sign {} example:- a = { 'key1':'suyash','key2':25}"
   ]
  },
  {
   "cell_type": "code",
   "execution_count": 4,
   "id": "acb7a59b",
   "metadata": {},
   "outputs": [
    {
     "ename": "KeyError",
     "evalue": "'foo'",
     "output_type": "error",
     "traceback": [
      "\u001b[1;31m---------------------------------------------------------------------------\u001b[0m",
      "\u001b[1;31mKeyError\u001b[0m                                  Traceback (most recent call last)",
      "Input \u001b[1;32mIn [4]\u001b[0m, in \u001b[0;36m<cell line: 5>\u001b[1;34m()\u001b[0m\n\u001b[0;32m      1\u001b[0m \u001b[38;5;66;03m#QUE 4. What happens if you try to access spam['foo'] if spam is {'bar': 100}?\u001b[39;00m\n\u001b[0;32m      2\u001b[0m     \n\u001b[0;32m      3\u001b[0m \u001b[38;5;66;03m#Ans-\u001b[39;00m\n\u001b[0;32m      4\u001b[0m spam \u001b[38;5;241m=\u001b[39m {\u001b[38;5;124m'\u001b[39m\u001b[38;5;124mbar\u001b[39m\u001b[38;5;124m'\u001b[39m: \u001b[38;5;241m100\u001b[39m}\n\u001b[1;32m----> 5\u001b[0m \u001b[43mspam\u001b[49m\u001b[43m[\u001b[49m\u001b[38;5;124;43m'\u001b[39;49m\u001b[38;5;124;43mfoo\u001b[39;49m\u001b[38;5;124;43m'\u001b[39;49m\u001b[43m]\u001b[49m\n",
      "\u001b[1;31mKeyError\u001b[0m: 'foo'"
     ]
    }
   ],
   "source": [
    "#QUE 4. What happens if you try to access spam['foo'] if spam is {'bar': 100}?\n",
    "    \n",
    "#Ans-\n",
    "spam = {'bar': 100}\n",
    "spam['foo']\n",
    "\n",
    "#       if we try to get spam['foo'] we will get KeyError"
   ]
  },
  {
   "cell_type": "code",
   "execution_count": 5,
   "id": "4b80ec57",
   "metadata": {},
   "outputs": [],
   "source": [
    "#QUE 5. If a dictionary is stored in spam, what is the difference between the expressions 'cat' in spam and\n",
    "#       'cat' in spam.keys()?\n",
    "    \n",
    "#Ans-   There is no difference. operator checks whether a value exists as a key in the dictionary, also 'cat' in\n",
    "#       spam.keys() checks whether there is a key 'cat' in spam."
   ]
  },
  {
   "cell_type": "code",
   "execution_count": 6,
   "id": "01ce3927",
   "metadata": {},
   "outputs": [],
   "source": [
    "#QUE 6. If a dictionary is stored in spam, what is the difference between the expressions 'cat' in spam and\n",
    "#      'cat' in spam.values()?\n",
    "    \n",
    "#Ans-   There is no difference. operator checks whether a value exists as a key in the dictionary, while 'cat' in\n",
    "#       spam.values() checks whether there is a value 'cat' for one of the keys in spam."
   ]
  },
  {
   "cell_type": "code",
   "execution_count": 7,
   "id": "71fd361a",
   "metadata": {},
   "outputs": [
    {
     "name": "stdout",
     "output_type": "stream",
     "text": [
      "{'bar': 100, 'color': 'black'}\n"
     ]
    }
   ],
   "source": [
    "#QUE 7. What is a shortcut for the following code?\n",
    "#       if 'color' not in spam:\n",
    "#       spam['color'] = 'black'\n",
    "    \n",
    "#Ans-  \n",
    "spam.setdefault('color','black')\n",
    "print(spam)\n",
    "\n",
    "#      This is the shortcut for the code"
   ]
  },
  {
   "cell_type": "code",
   "execution_count": 8,
   "id": "c9c087df",
   "metadata": {},
   "outputs": [],
   "source": [
    "#QUE 8. How do you \"pretty print\" dictionary values using which module and function?\n",
    "    \n",
    "#Ans-   The module is pprint and functions are pprint.pprint() and pprint.pformat()\n",
    "# import pprint\n",
    "# pprint.pprint()\n",
    "# pprint.pformat()"
   ]
  }
 ],
 "metadata": {
  "kernelspec": {
   "display_name": "Python 3 (ipykernel)",
   "language": "python",
   "name": "python3"
  },
  "language_info": {
   "codemirror_mode": {
    "name": "ipython",
    "version": 3
   },
   "file_extension": ".py",
   "mimetype": "text/x-python",
   "name": "python",
   "nbconvert_exporter": "python",
   "pygments_lexer": "ipython3",
   "version": "3.9.12"
  }
 },
 "nbformat": 4,
 "nbformat_minor": 5
}
