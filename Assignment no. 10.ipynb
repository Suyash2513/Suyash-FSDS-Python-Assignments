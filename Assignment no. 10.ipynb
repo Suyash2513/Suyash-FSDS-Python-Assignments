{
 "cells": [
  {
   "cell_type": "code",
   "execution_count": 1,
   "id": "8eb389a3",
   "metadata": {},
   "outputs": [],
   "source": [
    "#QUE 1. How do you distinguish between shutil.copy() and shutil.copytree()?\n",
    "\n",
    "#Ans-   shutil.copy() function will copy a single file, while shutil.copytree() will copy an entire folder, \n",
    "#       along with all its contents."
   ]
  },
  {
   "cell_type": "code",
   "execution_count": 2,
   "id": "b3b59ee9",
   "metadata": {},
   "outputs": [
    {
     "name": "stdout",
     "output_type": "stream",
     "text": [
      "File renamed successfully\n"
     ]
    }
   ],
   "source": [
    "#QUE 2. What function is used to rename files??\n",
    "\n",
    "#Ans-  The os.rename() function is used for renaming files.\n",
    "import os\n",
    "a = os.rename('C:\\\\Users\\\\suyas\\\\DATA SCIENCE\\\\demo4','C:\\\\Users\\\\suyas\\\\DATA SCIENCE\\\\demo34344')\n",
    "print('File renamed successfully')\n",
    "#      this function takes two arguments src and dst, src represents the name file/directory which we want to rename, \n",
    "#       whereas dst represents the new name of the file/directory."
   ]
  },
  {
   "cell_type": "code",
   "execution_count": 3,
   "id": "5ff7dc7e",
   "metadata": {},
   "outputs": [],
   "source": [
    "#QUE 3. What is the difference between the delete functions in the send2trash and shutil modules?\n",
    "\n",
    "#Ans-   The send2trash functions will move a file or folder to the recycle bin, \n",
    "#       while shutil functions will permanently delete files and folders."
   ]
  },
  {
   "cell_type": "code",
   "execution_count": 4,
   "id": "c2314304",
   "metadata": {},
   "outputs": [],
   "source": [
    "#QUE 4. ZipFile objects have a close() method just like File objects close() method. What ZipFile method is\n",
    "#      equivalent to File objects open() method?\n",
    "\n",
    "#Ans-   The zipfile.ZipFile() function is equivalent to the open() function, the first argument is the filename, and \n",
    "#       the second argument is the mode to open the ZIP file in (read, write, or append)."
   ]
  },
  {
   "cell_type": "code",
   "execution_count": 5,
   "id": "ece22d88",
   "metadata": {},
   "outputs": [
    {
     "name": "stdout",
     "output_type": "stream",
     "text": [
      "Enter the absolute path of the source folder: C:\\Users\\suyas\\DATA SCIENCE\\demo1\n",
      "Enter the type of file to copy (such as .pdf or .jpg etc.): .pdf\n",
      "Enter the absolute path of the destination folder: C:\\Users\\suyas\\DATA SCIENCE\\demo2\n",
      "Successfully copied to  C:\\Users\\suyas\\DATA SCIENCE\\demo2\n"
     ]
    }
   ],
   "source": [
    "#QUE 5. Create a programme that searches a folder tree for files with a certain file extension (such as .pdf\n",
    "#       or .jpg). Copy these files from whatever location they are in to a new folder.\n",
    "\n",
    "#Ans-\n",
    "import os\n",
    "import shutil\n",
    "sourcePath = input('Enter the absolute path of the source folder: ')\n",
    "fileExtType = input('Enter the type of file to copy (such as .pdf or .jpg etc.): ').lower()\n",
    "destPath = input('Enter the absolute path of the destination folder: ')\n",
    "\n",
    "for foldername, subfolders, filenames in os.walk(sourcePath):\n",
    "    for filename in filenames:\n",
    "        if filename.lower().endswith(fileExtType):\n",
    "            copySourcePath = os.path.join(foldername, filename)\n",
    "            shutil.copy(copySourcePath, destPath)\n",
    "            print('Successfully copied to ',destPath)\n",
    "        else:\n",
    "            continue"
   ]
  }
 ],
 "metadata": {
  "kernelspec": {
   "display_name": "Python 3 (ipykernel)",
   "language": "python",
   "name": "python3"
  },
  "language_info": {
   "codemirror_mode": {
    "name": "ipython",
    "version": 3
   },
   "file_extension": ".py",
   "mimetype": "text/x-python",
   "name": "python",
   "nbconvert_exporter": "python",
   "pygments_lexer": "ipython3",
   "version": "3.9.13"
  }
 },
 "nbformat": 4,
 "nbformat_minor": 5
}
