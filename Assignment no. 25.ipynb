{
 "cells": [
  {
   "cell_type": "code",
   "execution_count": 1,
   "id": "f942898b",
   "metadata": {},
   "outputs": [],
   "source": [
    "#QUE 1) What is the difference between enclosing a list comprehension in square brackets and parentheses?\n",
    "\n",
    "#Ans-   Square brackets are lists while parentheses are tuples."
   ]
  },
  {
   "cell_type": "code",
   "execution_count": 2,
   "id": "85fdd50c",
   "metadata": {},
   "outputs": [],
   "source": [
    "#QUE 2) What is the relationship between generators and iterators?\n",
    "\n",
    "#Ans-  - Iterators are the objects that use the next() method to get the next value of the sequence. \n",
    "#      - A generator is a function that produces or yields a sequence of values using a yield statement,\n",
    "#        without affecting the iteration of the loop. Every generator is an iterator."
   ]
  },
  {
   "cell_type": "code",
   "execution_count": 3,
   "id": "6cfe297a",
   "metadata": {},
   "outputs": [],
   "source": [
    "#QUE 3) What are the signs that a function is a generator function?\n",
    "\n",
    "#Ans-  sign of generator function is If a function contains at least one yield statement \n",
    "#      (it may contain other yield or return statements), it becomes a generator function. \n",
    "#      Both yield and return will return some value from a function."
   ]
  },
  {
   "cell_type": "code",
   "execution_count": 4,
   "id": "a579684b",
   "metadata": {},
   "outputs": [],
   "source": [
    "#QUE 4) What is the purpose of a yield statement?\n",
    "\n",
    "#Ans-  Yield expressions and statements are only used when defining a generator function, \n",
    "#      and are only used in the body of the generator function.  Using yield in a function definition is sufficient to cause\n",
    "#      that definition to create a generator function instead of a normal function."
   ]
  },
  {
   "cell_type": "code",
   "execution_count": 5,
   "id": "d3a598d4",
   "metadata": {
    "scrolled": true
   },
   "outputs": [],
   "source": [
    "#QUE 5) What is the relationship between map calls and list comprehensions? Make a comparison and\n",
    "#       contrast between the two.\n",
    "\n",
    "#Ans-   List comprehension returns a list, whereas the map function returns an object of Iterable. \n",
    "#       List comprehension execution is faster than that of map function when the formula expression is huge and complex. \n",
    "#       Map function is faster than list comprehension when the formula is already defined as a function earlier."
   ]
  }
 ],
 "metadata": {
  "kernelspec": {
   "display_name": "Python 3 (ipykernel)",
   "language": "python",
   "name": "python3"
  },
  "language_info": {
   "codemirror_mode": {
    "name": "ipython",
    "version": 3
   },
   "file_extension": ".py",
   "mimetype": "text/x-python",
   "name": "python",
   "nbconvert_exporter": "python",
   "pygments_lexer": "ipython3",
   "version": "3.9.13"
  }
 },
 "nbformat": 4,
 "nbformat_minor": 5
}
