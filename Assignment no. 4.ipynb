{
 "cells": [
  {
   "cell_type": "code",
   "execution_count": 1,
   "id": "e8cdd7c9",
   "metadata": {},
   "outputs": [],
   "source": [
    "#QUE 1. What exactly is []?\n",
    "\n",
    "#Ans-   [] it is the symbol of list, this is an empty list without values."
   ]
  },
  {
   "cell_type": "code",
   "execution_count": 2,
   "id": "6ba215a2",
   "metadata": {},
   "outputs": [
    {
     "data": {
      "text/plain": [
       "[2, 4, 'hello', 8, 10]"
      ]
     },
     "execution_count": 2,
     "metadata": {},
     "output_type": "execute_result"
    }
   ],
   "source": [
    "#QUE 2. In a list of values stored in a variable called spam, how would you assign the value 'hello' as the\n",
    "#       third value? (Assume [2, 4, 6, 8, 10] are in spam.)\n",
    "\n",
    "#Ans- \n",
    "\n",
    "spam = [2, 4, 6, 8, 10]\n",
    "spam[2] = 'hello'\n",
    "spam\n",
    "\n",
    "#       In this we we can assign the value 'hello' at index 2 as per question its a third position."
   ]
  },
  {
   "cell_type": "markdown",
   "id": "6aa74632",
   "metadata": {},
   "source": [
    "# Let's pretend the spam includes the list ['a', 'b', 'c', 'd'] for the next three queries."
   ]
  },
  {
   "cell_type": "code",
   "execution_count": 3,
   "id": "56381248",
   "metadata": {},
   "outputs": [
    {
     "data": {
      "text/plain": [
       "'d'"
      ]
     },
     "execution_count": 3,
     "metadata": {},
     "output_type": "execute_result"
    }
   ],
   "source": [
    "#QUE 3. What is the value of spam[int(int('3' * 2) / 11)]?\n",
    "\n",
    "#Ans- \n",
    "\n",
    "spam = ['a', 'b', 'c', 'd']\n",
    "spam[int(int('3' * 2) / 11)]\n",
    "\n",
    "#      'd' is the value for the given spam[int(int('3' * 2) / 11)]."
   ]
  },
  {
   "cell_type": "code",
   "execution_count": 4,
   "id": "3f36b141",
   "metadata": {},
   "outputs": [
    {
     "data": {
      "text/plain": [
       "'d'"
      ]
     },
     "execution_count": 4,
     "metadata": {},
     "output_type": "execute_result"
    }
   ],
   "source": [
    "#QUE 4. What is the value of spam[-1]?\n",
    "\n",
    "#Ans- \n",
    "\n",
    "spam = ['a', 'b', 'c', 'd']\n",
    "spam[-1]\n",
    "\n",
    "#       'd' is the value for the given spam[-1]."
   ]
  },
  {
   "cell_type": "code",
   "execution_count": 5,
   "id": "2c6c8bfe",
   "metadata": {},
   "outputs": [
    {
     "data": {
      "text/plain": [
       "['a', 'b']"
      ]
     },
     "execution_count": 5,
     "metadata": {},
     "output_type": "execute_result"
    }
   ],
   "source": [
    "#QUE 5. What is the value of spam[:2]?\n",
    "\n",
    "#Ans- \n",
    "\n",
    "spam = ['a', 'b', 'c', 'd']\n",
    "spam[:2]\n",
    "\n",
    "#       ['a', 'b'] is the value of spam[:2]."
   ]
  },
  {
   "cell_type": "markdown",
   "id": "db219b2e",
   "metadata": {},
   "source": [
    "# Let's pretend bacon has the list [3.14, 'cat', 11, 'cat', True] for the next three questions."
   ]
  },
  {
   "cell_type": "code",
   "execution_count": 6,
   "id": "f2a2fe91",
   "metadata": {},
   "outputs": [
    {
     "data": {
      "text/plain": [
       "1"
      ]
     },
     "execution_count": 6,
     "metadata": {},
     "output_type": "execute_result"
    }
   ],
   "source": [
    "#QUE 6. What is the value of bacon.index('cat')?\n",
    "\n",
    "#Ans- \n",
    "\n",
    "bacon = [3.14, 'cat', 11, 'cat', True]\n",
    "bacon.index('cat')\n",
    "\n",
    "#       1 is the index of bacon.index('cat')"
   ]
  },
  {
   "cell_type": "code",
   "execution_count": 7,
   "id": "54b751bb",
   "metadata": {},
   "outputs": [
    {
     "data": {
      "text/plain": [
       "[3.14, 'cat', 11, 'cat', True, 99]"
      ]
     },
     "execution_count": 7,
     "metadata": {},
     "output_type": "execute_result"
    }
   ],
   "source": [
    "#QUE 7. How does bacon.append(99) change the look of the list value in bacon?\n",
    "\n",
    "#Ans- \n",
    "\n",
    "bacon = [3.14, 'cat', 11, 'cat', True]\n",
    "bacon.append(99)\n",
    "bacon\n",
    "\n",
    "#       [3.14, 'cat', 11, 'cat', True, 99] in this way bacon.append(99) will change the look of the list in bacon.\n",
    "#       append operation appends 99 at the last value in th list."
   ]
  },
  {
   "cell_type": "code",
   "execution_count": 8,
   "id": "df849d6b",
   "metadata": {},
   "outputs": [
    {
     "data": {
      "text/plain": [
       "[3.14, 11, 'cat', True]"
      ]
     },
     "execution_count": 8,
     "metadata": {},
     "output_type": "execute_result"
    }
   ],
   "source": [
    "#QUE 8. How does bacon.remove('cat') change the look of the list in bacon?\n",
    "\n",
    "#Ans- \n",
    "\n",
    "bacon = [3.14, 'cat', 11, 'cat', True]\n",
    "bacon.remove('cat')\n",
    "bacon\n",
    "\n",
    "#      [3.14, 11, 'cat', True] in this way bacon.remove('cat') will change the look of the list in bacon.\n",
    "#      remove operation do the very first occurrence of value."
   ]
  },
  {
   "cell_type": "code",
   "execution_count": 9,
   "id": "6b9b9bbe",
   "metadata": {},
   "outputs": [],
   "source": [
    "#QUE 9. What are the list concatenation and list replication operators?\n",
    "\n",
    "#Ans-   The operator for the lsit concatination is + and the operator for replication is *."
   ]
  },
  {
   "cell_type": "code",
   "execution_count": 10,
   "id": "77995502",
   "metadata": {},
   "outputs": [
    {
     "name": "stdout",
     "output_type": "stream",
     "text": [
      "after append:  [1, 2, 3, 4, 20]\n",
      "after insert:  [1, 2334, 2, 3, 4]\n"
     ]
    }
   ],
   "source": [
    "#QUE 10. What is difference between the list methods append() and insert()?\n",
    "\n",
    "#Ans-    Main difference in append() and insert() is append() can add the element only at the end of the list\n",
    "f = [1,2,3,4]\n",
    "f.append(20)\n",
    "print('after append: ',f)\n",
    "\n",
    "#        and insert() allows to add element at specific index of the list\n",
    "\n",
    "f = [1,2,3,4]\n",
    "f.insert(1,2334)\n",
    "print('after insert: ' ,f)"
   ]
  },
  {
   "cell_type": "code",
   "execution_count": 11,
   "id": "32ff789d",
   "metadata": {},
   "outputs": [
    {
     "name": "stdout",
     "output_type": "stream",
     "text": [
      "after remove:  [1, 2, 4, 5, 3, 6]\n",
      "after pop:  [1, 2, 3, 5, 3, 6]\n",
      "after clear:  []\n"
     ]
    }
   ],
   "source": [
    "#QUE 11. What are the two methods for removing items from a list?\n",
    "\n",
    "#Ans-    remove(),pop() and clear() are the three methods of removing elements in the list \n",
    "#        remove()-removes the very first given matching element from the list\n",
    "g = [1,2,3,4,5,3,6]\n",
    "g.remove(3)\n",
    "print('after remove: ',g)\n",
    "\n",
    "#        pop()- pop removes an element from th list based on given index.\n",
    "g = [1,2,3,4,5,3,6]\n",
    "g.pop(3)\n",
    "print('after pop: ',g)\n",
    "\n",
    "#        clear()- clear removes all elements present in the list\n",
    "g = [1,2,3,4,5,3,6]\n",
    "g.clear()\n",
    "print('after clear: ',g)"
   ]
  },
  {
   "cell_type": "code",
   "execution_count": 12,
   "id": "9bcd47ac",
   "metadata": {},
   "outputs": [],
   "source": [
    "#QUE 12. Describe how list values and string values are identical.\n",
    "\n",
    "#Ans-    The values that make up a list are elements. list are identical to string, which are collection of characters\n",
    "#        except that the type of elements of a list can be different.\n",
    "#        list and string both are iterable."
   ]
  },
  {
   "cell_type": "code",
   "execution_count": 13,
   "id": "ba48ae73",
   "metadata": {},
   "outputs": [],
   "source": [
    "#QUE 13. What's the difference between tuples and lists?\n",
    "\n",
    "#Ans-    The main difference between tuples and lists is that tuples are immutable and lists are mutable .\n",
    "#        so its possible to change list but not tuple."
   ]
  },
  {
   "cell_type": "code",
   "execution_count": 14,
   "id": "b8ce1924",
   "metadata": {},
   "outputs": [
    {
     "name": "stdout",
     "output_type": "stream",
     "text": [
      "(42,)\n"
     ]
    },
    {
     "data": {
      "text/plain": [
       "tuple"
      ]
     },
     "execution_count": 14,
     "metadata": {},
     "output_type": "execute_result"
    }
   ],
   "source": [
    "#QUE 14. How do you type a tuple value that only contains the integer 42?\n",
    "\n",
    "#Ans-    #by writing trail comma to integer values so we can type cast it in tuple by following way\n",
    "\n",
    "a = (42,)\n",
    "a = tuple(a)\n",
    "print(a)\n",
    "type(a)"
   ]
  },
  {
   "cell_type": "code",
   "execution_count": 15,
   "id": "358fe2ff",
   "metadata": {},
   "outputs": [
    {
     "name": "stdout",
     "output_type": "stream",
     "text": [
      "[1, 2, 3, 4, 5, 'suyash'] <class 'list'>\n",
      "After Typecast : (1, 2, 3, 4, 5, 'suyash') <class 'tuple'>\n",
      "(5, 7, 3, 'suyash', 'ineuron') <class 'tuple'>\n",
      "After Typecast : [5, 7, 3, 'suyash', 'ineuron'] <class 'list'>\n"
     ]
    }
   ],
   "source": [
    "#QUE 15. How do you get a list value's tuple form? How do you get a tuple value's list form?\n",
    "\n",
    "#Ans-    we can achieve it by doing type casting using tuple() and list() feature\n",
    "\n",
    "#        list into tuple\n",
    "v = [1,2,3,4,5,'suyash']\n",
    "print(v,type(v))\n",
    "# overrideing v \n",
    "v = tuple(v)\n",
    "print('After Typecast :', v , type(v))\n",
    "\n",
    "#        Tuple into list\n",
    "\n",
    "w = (5,7,3,'suyash','ineuron')\n",
    "print(w ,type(w))\n",
    "#overriding w\n",
    "w = list(w)\n",
    "print('After Typecast :',w,type(w))\n",
    "\n"
   ]
  },
  {
   "cell_type": "code",
   "execution_count": 16,
   "id": "6ce3002d",
   "metadata": {},
   "outputs": [],
   "source": [
    "#QUE 16. Variables that 'contain' list values are not necessarily lists themselves. Instead, what do they contain?\n",
    "\n",
    "#Ans-    Variables will contain reference to list values rather than list values themeselves."
   ]
  },
  {
   "cell_type": "code",
   "execution_count": 17,
   "id": "889313b5",
   "metadata": {},
   "outputs": [
    {
     "name": "stdout",
     "output_type": "stream",
     "text": [
      "[1, 2, 3, 4]\n",
      "updated a : [122, 2, 3, 4]\n",
      "updated b: [122, 2, 3, 4]\n",
      "[1, 2, 3, 4]\n",
      "updated a: [122, 2, 3, 4]\n",
      "[1, 2, 3, 4]\n"
     ]
    }
   ],
   "source": [
    "#QUE 17. How do you distinguish between copy.copy() and copy.deepcopy()?\n",
    "\n",
    "#Ans-    copy.copy() creates shallow copy of entity in variable whicand\n",
    "\n",
    "# for example :-\n",
    "a = [1,2,3,4]\n",
    "b = a\n",
    "print(b)\n",
    "a[0] = 122\n",
    "print('updated a :',a)\n",
    "print('updated b:',b)   #in shallow copy b also get updated.\n",
    "\n",
    "#        copy.deepcopy()creates deep copy of the entity in variable\n",
    "\n",
    "# for example :-\n",
    "a = [1,2,3,4]\n",
    "c= a.copy()\n",
    "print(c)\n",
    "a[0] = 122\n",
    "print('updated a:',a)\n",
    "print(c)  #in deep copy no change oocurs when we update a."
   ]
  }
 ],
 "metadata": {
  "kernelspec": {
   "display_name": "Python 3 (ipykernel)",
   "language": "python",
   "name": "python3"
  },
  "language_info": {
   "codemirror_mode": {
    "name": "ipython",
    "version": 3
   },
   "file_extension": ".py",
   "mimetype": "text/x-python",
   "name": "python",
   "nbconvert_exporter": "python",
   "pygments_lexer": "ipython3",
   "version": "3.9.12"
  }
 },
 "nbformat": 4,
 "nbformat_minor": 5
}
