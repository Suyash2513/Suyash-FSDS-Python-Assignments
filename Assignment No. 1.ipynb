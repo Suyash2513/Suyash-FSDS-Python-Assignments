{
 "cells": [
  {
   "cell_type": "code",
   "execution_count": 1,
   "id": "8edbce33",
   "metadata": {},
   "outputs": [
    {
     "name": "stdout",
     "output_type": "stream",
     "text": [
      "Hello Python\n"
     ]
    }
   ],
   "source": [
    "#QUE 1. Write a Python program to print \"Hello Python\"?\n",
    "\n",
    "#Ans-\n",
    "\n",
    "a = \"Hello Python\"\n",
    "print(a)"
   ]
  },
  {
   "cell_type": "code",
   "execution_count": 2,
   "id": "094a19ea",
   "metadata": {},
   "outputs": [
    {
     "name": "stdout",
     "output_type": "stream",
     "text": [
      "Enter a number : 4\n",
      "Enter a number : 7\n",
      "Addition of two numbers:  11\n",
      "Enter a number : 9\n",
      "Enter a number : 3\n",
      "Division of two numbers:  3.0\n"
     ]
    }
   ],
   "source": [
    "#QUE 2. Write a Python program to do arithmetical operations addition and division.?\n",
    "\n",
    "#Ans-\n",
    "\n",
    "a = int(input('Enter a number : '))\n",
    "b = int(input('Enter a number : '))\n",
    "sum = a+b\n",
    "print('Addition of two numbers: ',sum)\n",
    "\n",
    "c = int(input('Enter a number : '))\n",
    "d = int(input('Enter a number : '))\n",
    "div = c/d\n",
    "print('Division of two numbers: ',div)"
   ]
  },
  {
   "cell_type": "code",
   "execution_count": 3,
   "id": "77de9945",
   "metadata": {},
   "outputs": [
    {
     "name": "stdout",
     "output_type": "stream",
     "text": [
      "Enter the height of triangle : 30\n",
      "Enter the base of triangle : 20\n",
      "Area of Triangle is  300.0\n"
     ]
    }
   ],
   "source": [
    "#QUE 3. Write a Python program to find the area of a triangle?\n",
    "\n",
    "#Ans-\n",
    "\n",
    "h = int(input('Enter the height of triangle : '))\n",
    "b = int(input('Enter the base of triangle : '))\n",
    "Area = (1/2)*h*b\n",
    "print('Area of Triangle is ',Area)"
   ]
  },
  {
   "cell_type": "code",
   "execution_count": 4,
   "id": "82236bf1",
   "metadata": {},
   "outputs": [
    {
     "name": "stdout",
     "output_type": "stream",
     "text": [
      "Enter a number A: 56\n",
      "Enter a number B: 89\n",
      "Befor swapping A :  56\n",
      "Befor swapping B :  89\n",
      "After Swapping A :  89\n",
      "After Swapping B :  56\n"
     ]
    }
   ],
   "source": [
    "#QUE 4. Write a Python program to swap two variables?\n",
    "\n",
    "#Ans-\n",
    "\n",
    "A = int(input('Enter a number A: '))\n",
    "B = int(input('Enter a number B: '))\n",
    "print('Befor swapping A : ',A)\n",
    "print('Befor swapping B : ',B)\n",
    "#taking 3rd temprary variable for swaping\n",
    "temp = A\n",
    "A = B\n",
    "B = temp\n",
    "\n",
    "print('After Swapping A : ',A)\n",
    "print('After Swapping B : ',B)"
   ]
  },
  {
   "cell_type": "code",
   "execution_count": 5,
   "id": "c13ba29a",
   "metadata": {},
   "outputs": [
    {
     "name": "stdout",
     "output_type": "stream",
     "text": [
      "Random number :  0.872272016548926\n"
     ]
    }
   ],
   "source": [
    "#QUE 5. Write a Python program to generate a random number?\n",
    "\n",
    "#Ans-\n",
    "#importing random library\n",
    "import random\n",
    "a = random.random()\n",
    "print('Random number : ', a)"
   ]
  }
 ],
 "metadata": {
  "kernelspec": {
   "display_name": "Python 3 (ipykernel)",
   "language": "python",
   "name": "python3"
  },
  "language_info": {
   "codemirror_mode": {
    "name": "ipython",
    "version": 3
   },
   "file_extension": ".py",
   "mimetype": "text/x-python",
   "name": "python",
   "nbconvert_exporter": "python",
   "pygments_lexer": "ipython3",
   "version": "3.9.12"
  }
 },
 "nbformat": 4,
 "nbformat_minor": 5
}
