{
 "cells": [
  {
   "cell_type": "code",
   "execution_count": 1,
   "id": "c7c1fb2d",
   "metadata": {},
   "outputs": [
    {
     "name": "stdout",
     "output_type": "stream",
     "text": [
      "Enter value in kilometers: 10\n",
      "10.00 kilometers is equal to 6.214 miles \n"
     ]
    }
   ],
   "source": [
    "#QUE 1. Write a Python program to convert kilometers to miles?\n",
    "\n",
    "#Ans-\n",
    "\n",
    "# Taking kilometers input from the user\n",
    "kilometers = float(input(\"Enter value in kilometers: \"))\n",
    "\n",
    "# conversion factor\n",
    "conversionFactor = 0.621371192\n",
    "\n",
    "# calculate miles\n",
    "miles = kilometers * conversionFactor\n",
    "print('%0.2f kilometers is equal to %0.3f miles ' %(kilometers,miles))"
   ]
  },
  {
   "cell_type": "code",
   "execution_count": 2,
   "id": "a7e1516a",
   "metadata": {},
   "outputs": [
    {
     "name": "stdout",
     "output_type": "stream",
     "text": [
      "Enter Temperature : 25\n",
      "25.0 degree Celsius is equal to 77.0 degree Fahrenheit\n"
     ]
    }
   ],
   "source": [
    "#QUE 2. Write a Python program to convert Celsius to Fahrenheit?\n",
    "\n",
    "#Ans-\n",
    "\n",
    "celsius = float(input('Enter Temperature : '))\n",
    "\n",
    "# calculate fahrenheit\n",
    "fahrenheit = (celsius * 1.8) + 32\n",
    "print('%0.1f degree Celsius is equal to %0.1f degree Fahrenheit' %(celsius,fahrenheit))"
   ]
  },
  {
   "cell_type": "code",
   "execution_count": 3,
   "id": "87cdd807",
   "metadata": {},
   "outputs": [
    {
     "name": "stdout",
     "output_type": "stream",
     "text": [
      "Enter year: 2022\n",
      "Enter month: 12\n",
      "   December 2022\n",
      "Mo Tu We Th Fr Sa Su\n",
      "          1  2  3  4\n",
      " 5  6  7  8  9 10 11\n",
      "12 13 14 15 16 17 18\n",
      "19 20 21 22 23 24 25\n",
      "26 27 28 29 30 31\n",
      "\n"
     ]
    }
   ],
   "source": [
    "#QUE 3. Write a Python program to display calendar?\n",
    "\n",
    "#Ans-\n",
    "\n",
    "# importing calendar module\n",
    "import calendar\n",
    "\n",
    "# To take month and year input from the user\n",
    "yy = int(input(\"Enter year: \"))\n",
    "mm = int(input(\"Enter month: \"))\n",
    "\n",
    "# display the calendar\n",
    "print(calendar.month(yy, mm))"
   ]
  },
  {
   "cell_type": "code",
   "execution_count": 4,
   "id": "e7471dd9",
   "metadata": {},
   "outputs": [
    {
     "name": "stdout",
     "output_type": "stream",
     "text": [
      "Enter number a : 3\n",
      "Enter number b : 6\n",
      "Enter number c : 3\n",
      " real and same roots\n",
      "-1.0\n"
     ]
    }
   ],
   "source": [
    "#QUE 4. Write a Python program to solve quadratic equation?\n",
    "\n",
    "#Ans-   equation of the quzdratic equation is ax**2 + bx + c = 0\n",
    "\n",
    "import math\n",
    "# Finding the roots using the Function\n",
    "\n",
    "def roots_of_equation(a, b, c): \n",
    "    \n",
    "    # Finding the value of Discriminant \n",
    "    D = b**2 - 4*a*c\n",
    "    sqrt_D = math.sqrt(abs(D)) \n",
    "      \n",
    "    # checking Discriminant condition \n",
    "    if D > 0: \n",
    "        print(\"Roots are Real and Different \") \n",
    "        print((-b + sqrt_D)/(2*a)) \n",
    "        print((-b - sqrt_D)/(2*a)) \n",
    "        \n",
    "    elif D == 0: \n",
    "        print(\" real and same roots\") \n",
    "        print(-b / (2*a)) \n",
    "        \n",
    "    # Discriminant < 0 follows else block\n",
    "    else:\n",
    "        print(\"Complex Roots\") \n",
    "        print(- b / (2*a), \" + i\", sqrt_D) \n",
    "        print(- b / (2*a), \" - i\", sqrt_D) \n",
    "    \n",
    "# variable inputs\n",
    "a = int(input('Enter number a : '))\n",
    "b = int(input('Enter number b : '))\n",
    "c = int(input('Enter number c : '))\n",
    "  \n",
    "# If a is given 0, then Equation is incorrect\n",
    "if a == 0:\n",
    "    print(\"Input correct Quadratic Equation\")   \n",
    "else:\n",
    "    roots_of_equation(a, b, c)"
   ]
  },
  {
   "cell_type": "code",
   "execution_count": 5,
   "id": "f0b4e404",
   "metadata": {},
   "outputs": [
    {
     "name": "stdout",
     "output_type": "stream",
     "text": [
      "Enter number a : 23\n",
      "Enter number b : 54\n",
      "Before swaping a : 23 and b : 54\n",
      "After swaping a : 54 and b : 23\n"
     ]
    }
   ],
   "source": [
    "#QUE 5. Write a Python program to swap two variables without temp variable?\n",
    "\n",
    "#Ans-\n",
    "# Swaping without using temp variable\n",
    "a = int(input('Enter number a : '))\n",
    "b = int(input('Enter number b : '))\n",
    "print('Before swaping a : %.f and b : %.f' %(a,b))\n",
    "a,b = b,a\n",
    "print('After swaping a : %.f and b : %.f' %(a,b))"
   ]
  }
 ],
 "metadata": {
  "kernelspec": {
   "display_name": "Python 3 (ipykernel)",
   "language": "python",
   "name": "python3"
  },
  "language_info": {
   "codemirror_mode": {
    "name": "ipython",
    "version": 3
   },
   "file_extension": ".py",
   "mimetype": "text/x-python",
   "name": "python",
   "nbconvert_exporter": "python",
   "pygments_lexer": "ipython3",
   "version": "3.9.12"
  }
 },
 "nbformat": 4,
 "nbformat_minor": 5
}
