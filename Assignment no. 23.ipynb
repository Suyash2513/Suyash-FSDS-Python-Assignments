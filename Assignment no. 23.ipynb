{
 "cells": [
  {
   "cell_type": "code",
   "execution_count": 1,
   "id": "217d3be3",
   "metadata": {},
   "outputs": [
    {
     "name": "stdout",
     "output_type": "stream",
     "text": [
      "1 2 8\n"
     ]
    }
   ],
   "source": [
    "#QUE 1. What is the result of the code, and why?\n",
    "def func(a, b=6, c=8):\n",
    "    print(a, b, c)\n",
    "func(1, 2)\n",
    "\n",
    "#Ans- in function here 3 parameters are given in that b and c is predefined and a is blank\n",
    "#     func(1, 2) when we called this function in that we priovided 2 arguments and here in function if we provide \n",
    "#     argument are positinally binded (if we not mentioned specific variable while calling )\n",
    "#     here a is at first position b is at 2nd and c is at 3rd in calling function \n",
    "#     func(1,2) only to positional arguments are given so a is already blank so a takes value 1 and b have already 6 but \n",
    "#     it will overriden as 2 and 3rd argument while calling is not provided so c is 8 as it is so in this way output is 1 2 8."
   ]
  },
  {
   "cell_type": "code",
   "execution_count": 2,
   "id": "ffa2f970",
   "metadata": {},
   "outputs": [
    {
     "name": "stdout",
     "output_type": "stream",
     "text": [
      "1 2 3\n"
     ]
    }
   ],
   "source": [
    "#QUE 2. What is the result of this code, and why?\n",
    "def func(a, b, c=5):\n",
    "    print(a, b, c)\n",
    "func(1, c=3, b=2)\n",
    "\n",
    "#Ans- here output is 1 2 and 3 \n",
    "#     in function 3 arguments present a b and c a and b is not have value and c have 5 \n",
    "#     while calling specifically mentioned c and b values and c will be overriden as 3 and b is black so it b will take 2\n",
    "#     as mentioned in function call specifically and 1 ia on 1st position so value of a will be 1 \n",
    "#     so final putput is 1 2 3"
   ]
  },
  {
   "cell_type": "code",
   "execution_count": 3,
   "id": "8d2f15ea",
   "metadata": {},
   "outputs": [
    {
     "name": "stdout",
     "output_type": "stream",
     "text": [
      "1 (2, 3)\n"
     ]
    }
   ],
   "source": [
    "#QUE 3. How about this code: what is its result, and why?\n",
    "def func(a, *pargs):\n",
    "    print(a, pargs)\n",
    "func(1, 2, 3)\n",
    "\n",
    "#Ans-  here while calling function 3 positional args are given and in def function only 1 positional and then other \n",
    "#      args provided in multiple args as *pargs \n",
    "#      so in called function 1st positional is printed as it is and the remaining are come in tuble format as *pargs\n",
    "#      multiple args , so the final output is 1 (2,3)\n",
    "\n",
    "#   OR\n",
    "\n",
    "#     *pargs stands for variable length arguments. \n",
    "#      this format is used when we are not sure about the no of arguments to be passed to a function. \n",
    "#      all the values under this argument will be stored in a tuple.\n",
    "#      so the result of the code is 1 (2,3)"
   ]
  },
  {
   "cell_type": "code",
   "execution_count": 4,
   "id": "f5c84f66",
   "metadata": {},
   "outputs": [
    {
     "name": "stdout",
     "output_type": "stream",
     "text": [
      "1 {'c': 3, 'b': 2}\n"
     ]
    }
   ],
   "source": [
    "#QUE 4. What does this code print, and why?\n",
    "def func(a, **kargs):\n",
    "    print(a, kargs)\n",
    "func(a=1, c=3, b=2)\n",
    "\n",
    "#Ans-    \n",
    "#       **args stands for variable length keyword arguments. \n",
    "#       this format is used when we want pass key value pairs as input to a function. \n",
    "#       All these key value pairs will be stored in a dictionary\n",
    "#       so the result of the above code is 1 {'c': 3, 'b': 2}."
   ]
  },
  {
   "cell_type": "code",
   "execution_count": 5,
   "id": "11c302ea",
   "metadata": {},
   "outputs": [
    {
     "name": "stdout",
     "output_type": "stream",
     "text": [
      "1 5 6 5\n"
     ]
    }
   ],
   "source": [
    "#QUE 5. What gets printed by this, and explain?\n",
    "def func(a, b, c=8, d=5):\n",
    "    print(a, b, c, d)\n",
    "func(1, *(5, 6))\n",
    "\n",
    "#Ans-  here when calling function 1st positional provided and 2nd 3rd is provided in *args so a is 1 b is 5 and \n",
    "#      c which is previously 8 is now 6 after overriding and d is 5 as it is which value is not provided while calling function.\n",
    "#      so the finsl output is 1 5 6 5"
   ]
  },
  {
   "cell_type": "code",
   "execution_count": 6,
   "id": "0bbfb187",
   "metadata": {},
   "outputs": [
    {
     "data": {
      "text/plain": [
       "(1, ['x'], {'a': 'y'})"
      ]
     },
     "execution_count": 6,
     "metadata": {},
     "output_type": "execute_result"
    }
   ],
   "source": [
    "#QUE 6. what is the result of this, and explain?\n",
    "def func(a, b, c): a = 2; b[0] = 'x'; c['a'] = 'y'\n",
    "l=1; m=[1]; n={'a':0}\n",
    "func(l, m, n)\n",
    "l, m, n\n",
    "\n",
    "#Ans-   The output of above code is 1, ['x'], {'a': 'y'}.\n",
    "#       Eventhough Python gives importance to indentation. \n",
    "#       its provides a facility to declare an entire function in one single line. \n",
    "#       where statements in a function body are sepereated by ;\n",
    "#       When l,m,n are provided as inputs to the function. \n",
    "#       what ever we call variables in function other than actual prvided are positionally bounded so the namings of a b and c\n",
    "#        is replaced by l m and n and what ever mutable and possible values are overriden\n",
    "#       its modifies the values of l,m,n and sets the value of l=1 ,m[0]=['x'] and n={'a':'y'}"
   ]
  }
 ],
 "metadata": {
  "kernelspec": {
   "display_name": "Python 3 (ipykernel)",
   "language": "python",
   "name": "python3"
  },
  "language_info": {
   "codemirror_mode": {
    "name": "ipython",
    "version": 3
   },
   "file_extension": ".py",
   "mimetype": "text/x-python",
   "name": "python",
   "nbconvert_exporter": "python",
   "pygments_lexer": "ipython3",
   "version": "3.9.13"
  }
 },
 "nbformat": 4,
 "nbformat_minor": 5
}
