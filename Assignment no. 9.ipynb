{
 "cells": [
  {
   "cell_type": "code",
   "execution_count": 1,
   "id": "a8e60a63",
   "metadata": {},
   "outputs": [],
   "source": [
    "#QUE 1. To what does a relative path refer?\n",
    "\n",
    "#Ans-   Relative paths are relative to the current working directory."
   ]
  },
  {
   "cell_type": "code",
   "execution_count": 2,
   "id": "43bd9a21",
   "metadata": {},
   "outputs": [],
   "source": [
    "#QUE 2. What does an absolute path start with your operating system?\n",
    "\n",
    "#Ans-   Absolute paths start with the root folder, such as C:\\ which is also in my operating system."
   ]
  },
  {
   "cell_type": "code",
   "execution_count": 3,
   "id": "109d2484",
   "metadata": {},
   "outputs": [],
   "source": [
    "#QUE 3. What do the functions os.getcwd() and os.chdir() do?\n",
    "\n",
    "#Ans-\n",
    "#      os.getcwd() --> Return a unicode string representing the current working directory.\n",
    "#      os.chdir() --> Change the current working directory to the specified path."
   ]
  },
  {
   "cell_type": "code",
   "execution_count": 4,
   "id": "0ab3c444",
   "metadata": {},
   "outputs": [],
   "source": [
    "#QUE 4. What are the . and .. folders?\n",
    "\n",
    "#Ans-   The . folder is the current folder, and .. is the parent folder"
   ]
  },
  {
   "cell_type": "code",
   "execution_count": 5,
   "id": "222e4f2c",
   "metadata": {},
   "outputs": [],
   "source": [
    "#QUE 5. In C:\\bacon\\eggs\\spam.txt, which part is the dir name, and which part is the base name?\n",
    "\n",
    "#Ans-   C:\\bacon\\eggs is the dir name, while spam.txt is the base name."
   ]
  },
  {
   "cell_type": "code",
   "execution_count": 6,
   "id": "8cd43313",
   "metadata": {},
   "outputs": [],
   "source": [
    "#QUE 6. What are the three “mode” arguments that can be passed to the open() function?\n",
    "\n",
    "#Ans-   The string 'r' for read mode, 'w' for write mode, and 'a' for append mode"
   ]
  },
  {
   "cell_type": "code",
   "execution_count": 7,
   "id": "16956881",
   "metadata": {},
   "outputs": [],
   "source": [
    "#QUE 7. What happens if an existing file is opened in write mode?\n",
    "\n",
    "#Ans-   An existing file opened in write mode is erased and completely overwritten"
   ]
  },
  {
   "cell_type": "code",
   "execution_count": 8,
   "id": "d5a4da74",
   "metadata": {},
   "outputs": [],
   "source": [
    "#QUE 8. How do you tell the difference between read() and readlines()?\n",
    "\n",
    "#Ans-   The read() method returns the file's entire contents as a single string value. \n",
    "#       The readlines() method returns a list of strings, where each string is a line from the file's contents."
   ]
  },
  {
   "cell_type": "code",
   "execution_count": 9,
   "id": "f5afddce",
   "metadata": {},
   "outputs": [],
   "source": [
    "#QUE 9. What data structure does a shelf value resemble?\n",
    "\n",
    "#Ans-   A shelf value resembles a dictionary value, it has keys and values, \n",
    "#       along with keys() and values() methods that work similarly to the dictionary methods of the same names."
   ]
  }
 ],
 "metadata": {
  "kernelspec": {
   "display_name": "Python 3 (ipykernel)",
   "language": "python",
   "name": "python3"
  },
  "language_info": {
   "codemirror_mode": {
    "name": "ipython",
    "version": 3
   },
   "file_extension": ".py",
   "mimetype": "text/x-python",
   "name": "python",
   "nbconvert_exporter": "python",
   "pygments_lexer": "ipython3",
   "version": "3.9.13"
  }
 },
 "nbformat": 4,
 "nbformat_minor": 5
}
