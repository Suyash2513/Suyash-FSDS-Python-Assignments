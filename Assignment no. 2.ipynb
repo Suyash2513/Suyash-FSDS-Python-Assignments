{
 "cells": [
  {
   "cell_type": "code",
   "execution_count": 1,
   "id": "9e0a3e22",
   "metadata": {},
   "outputs": [
    {
     "name": "stdout",
     "output_type": "stream",
     "text": [
      "True False\n"
     ]
    }
   ],
   "source": [
    "# QUE 1.What are the two values of the Boolean data type? How do you write them?\n",
    "\n",
    "#Ans- True (1) and False (0) are the two values of Boolean Datatype.\n",
    "\n",
    "a = True\n",
    "b = False\n",
    "print(a,b)\n",
    "\n",
    "#In this way we can write."
   ]
  },
  {
   "cell_type": "code",
   "execution_count": 2,
   "id": "fe4866ce",
   "metadata": {},
   "outputs": [],
   "source": [
    "# QUE 2. What are the three different types of Boolean operators?\n",
    "\n",
    "#Ans- Three boolean operators are AND , OR and NOT"
   ]
  },
  {
   "cell_type": "code",
   "execution_count": 3,
   "id": "e9436312",
   "metadata": {},
   "outputs": [],
   "source": [
    "# QUE 3. Make a list of each Boolean operator's truth tables (i.e. every possible combination of Boolean\n",
    "#        values for the operator and what it evaluate ).\n",
    "\n",
    "#Ans-   AND\n",
    "#        True and True = True\n",
    "#        True and False = False\n",
    "#        False and True = False\n",
    "#        False and False = False\n",
    "        \n",
    "#       OR\n",
    "#        True or True = True\n",
    "#        True or False = True\n",
    "#        False or True = True\n",
    "#        False or False = False\n",
    "\n",
    "#       NOT\n",
    "#        not True = False\n",
    "#        not False = True \n",
    "\n",
    "\n",
    "#     *Truth Table*\n",
    "\n",
    "#       AND\n",
    "#        A B Output\n",
    "#        1 1 1\n",
    "#        1 0 0\n",
    "#        1 0 0\n",
    "#        0 0 0\n",
    "\n",
    "#       OR\n",
    "#        A B Output\n",
    "#        1 1 1\n",
    "#        1 0 1\n",
    "#        0 1 1\n",
    "#        0 0 0\n",
    "\n",
    "#       Not\n",
    "#        A Output\n",
    "#        0 1\n",
    "#        1 0\n",
    "    "
   ]
  },
  {
   "cell_type": "code",
   "execution_count": 4,
   "id": "5aba36e9",
   "metadata": {},
   "outputs": [
    {
     "name": "stdout",
     "output_type": "stream",
     "text": [
      "False\n",
      "False\n",
      "True\n",
      "False\n",
      "False\n",
      "True\n"
     ]
    }
   ],
   "source": [
    "# QUE 4. What are the values of the following expressions?\n",
    "#     (5 > 4) and (3 == 5)\n",
    "#     not (5 > 4)\n",
    "#     (5 > 4) or (3 == 5)\n",
    "#     not ((5 > 4) or (3 == 5))\n",
    "#     (True and True) and (True == False)\n",
    "#     (not False) or (not True)\n",
    "\n",
    "\n",
    "#Ans-\n",
    "\n",
    "print((5 > 4) and (3 == 5))\n",
    "print(not (5 > 4))\n",
    "print((5 > 4) or (3 == 5))\n",
    "print(not ((5 > 4) or (3 == 5)))\n",
    "print((True and True) and (True == False))\n",
    "print((not False) or (not True))\n"
   ]
  },
  {
   "cell_type": "code",
   "execution_count": 5,
   "id": "1f8a9e10",
   "metadata": {},
   "outputs": [],
   "source": [
    "# QUE 5. What are the six comparison operators?\n",
    "\n",
    "#Ans- ==   ---> equal equal to\n",
    "#     !=   ---> not equal to\n",
    "#     <    ---> less than\n",
    "#     >    ---> greater than\n",
    "#     <=   ---> less than or equal to\n",
    "#     >=   ---> greater than or equal to\n",
    "\n",
    "# These are the six comparison operator"
   ]
  },
  {
   "cell_type": "code",
   "execution_count": 6,
   "id": "ee208471",
   "metadata": {},
   "outputs": [
    {
     "name": "stdout",
     "output_type": "stream",
     "text": [
      "False\n",
      "a = 23\n"
     ]
    }
   ],
   "source": [
    "# QUE6. How do you tell the difference between the equal to and assignment operators?Describe a\n",
    "#       condition and when you would use one.\n",
    "\n",
    "#Ans- == is an equality operator which compares Two values and evaluates boolean\n",
    "#     and = is an assignment operator which assigns value or override existing values to the variable  \n",
    "\n",
    "# for example :-\n",
    "    # Equal equal to operator\n",
    "if(2 == 3):  #equal to operator\n",
    "    print('True')\n",
    "else:\n",
    "    print('False')\n",
    "    \n",
    "    # Assignment operator\n",
    "a = 23 # Assignment operator\n",
    "print('a =',a)"
   ]
  },
  {
   "cell_type": "code",
   "execution_count": 7,
   "id": "e755ae71",
   "metadata": {},
   "outputs": [
    {
     "name": "stdout",
     "output_type": "stream",
     "text": [
      "ham\n",
      "spam\n",
      "spam\n"
     ]
    }
   ],
   "source": [
    "# QUE 7. Identify the three blocks in this code:\n",
    "\n",
    "#Ans-   spam = 0\n",
    "#       if spam == 10:    ------First If statement block\n",
    "#           print('eggs')\n",
    "#       if spam > 5:      ------Second If statement block\n",
    "#           print('bacon')\n",
    "#       else:             ------Third else statement block\n",
    "#           print('ham')\n",
    "#           print('spam')\n",
    "#           print('spam')\n",
    "\n",
    "spam = 0\n",
    "if spam == 10: # \n",
    "    print('eggs')\n",
    "if spam > 5:\n",
    "    print('bacon')\n",
    "else:\n",
    "    print('ham')\n",
    "    print('spam')\n",
    "    print('spam')"
   ]
  },
  {
   "cell_type": "code",
   "execution_count": 8,
   "id": "4c3b8810",
   "metadata": {},
   "outputs": [
    {
     "name": "stdout",
     "output_type": "stream",
     "text": [
      "Give the number3\n",
      "Greetings!\n"
     ]
    }
   ],
   "source": [
    "# QUE 8. Write code that prints Hello if 1 is stored in spam, prints Howdy if 2 is stored in spam, and prints\n",
    "#        Greetings! if anything else is stored in spam.\n",
    "\n",
    "#Ans-    \n",
    "spam = int(input('Give the number'))\n",
    "if spam == 1:\n",
    "    print('Hello')\n",
    "elif spam == 2:\n",
    "    print('Howdy')\n",
    "else:\n",
    "    print('Greetings!')\n"
   ]
  },
  {
   "cell_type": "code",
   "execution_count": 9,
   "id": "edbefde7",
   "metadata": {},
   "outputs": [],
   "source": [
    "# QUE 9.If your programme is stuck in an endless loop, what keys you’ll press?\n",
    "\n",
    "#Ans-  If programme is stuck in an endless loop then i will press interupt kernel or Restart Kernel also Ctrl+C"
   ]
  },
  {
   "cell_type": "code",
   "execution_count": 10,
   "id": "320847e3",
   "metadata": {},
   "outputs": [
    {
     "name": "stdout",
     "output_type": "stream",
     "text": [
      "1\n",
      "2\n",
      "3\n",
      "The statement is break\n",
      "1\n",
      "2\n",
      "3\n",
      "5\n",
      "6\n",
      "7\n",
      "8\n"
     ]
    }
   ],
   "source": [
    "# QUE 10. How can you tell the difference between break and continue?\n",
    "\n",
    "#Ans-   Brake means just stops the code at that point of loop and takes exit from loop and \n",
    "#       passes execution over the next loop in the main block\n",
    "#       And Continue means it skips the current iteration and executes the very next iteration in the loop\n",
    "#       This is the difference in break and continue statement.\n",
    "\n",
    "a = [1,2,3,4,5,6,7,8]\n",
    "for i in a:\n",
    "    if i == 4:\n",
    "        break\n",
    "    print(i)\n",
    "print('The statement is break')\n",
    "\n",
    "for i in a:\n",
    "    if i == 4:\n",
    "        continue\n",
    "    print(i)"
   ]
  },
  {
   "cell_type": "code",
   "execution_count": 11,
   "id": "94791fe9",
   "metadata": {},
   "outputs": [
    {
     "name": "stdout",
     "output_type": "stream",
     "text": [
      "range(10)\n",
      "0\n",
      "1\n",
      "2\n",
      "3\n",
      "4\n",
      "5\n",
      "6\n",
      "7\n",
      "8\n",
      "9\n",
      "range(0, 10)\n",
      "0\n",
      "1\n",
      "2\n",
      "3\n",
      "4\n",
      "5\n",
      "6\n",
      "7\n",
      "8\n",
      "9\n",
      "range(0, 10, 1)\n",
      "0\n",
      "1\n",
      "2\n",
      "3\n",
      "4\n",
      "5\n",
      "6\n",
      "7\n",
      "8\n",
      "9\n"
     ]
    }
   ],
   "source": [
    "# QUE 11. In a for loop, what is the difference between range(10), range(0, 10), and range(0, 10, 1)?\n",
    "\n",
    "#Ans-     range function produce numbers between given lowerand upper limit and step size (excludinf upper limit).\n",
    "print('range(10)')\n",
    "for i in range(10):  # here we given only upperlimit so 0 to 9 will be printed (default lower limit is 0 and stepsize is 1).\n",
    "    print(i)\n",
    "print('range(0, 10)')\n",
    "for i in range(0,10):  # here we given lower and upperlimit both so 0 to 9 will be printed (default stepsize is 1).\n",
    "    print(i)\n",
    "print('range(0, 10, 1)')\n",
    "for i in range(0,10,1): # here we given lower and upperlimit both and also step so 0 to 9 will be printed with stepsize 1.\n",
    "    print(i)\n",
    "    \n",
    "#unfortunately output of 3 of them is same because meaning is similar .\n"
   ]
  },
  {
   "cell_type": "code",
   "execution_count": 12,
   "id": "438e12d1",
   "metadata": {},
   "outputs": [
    {
     "name": "stdout",
     "output_type": "stream",
     "text": [
      "For loop :\n",
      "0\n",
      "1\n",
      "2\n",
      "3\n",
      "4\n",
      "5\n",
      "6\n",
      "7\n",
      "8\n",
      "9\n",
      "10\n",
      "While loop :\n",
      "1\n",
      "2\n",
      "3\n",
      "4\n",
      "5\n",
      "6\n",
      "7\n",
      "8\n",
      "9\n",
      "10\n"
     ]
    }
   ],
   "source": [
    "# QUE 12. Write a short program that prints the numbers 1 to 10 using a for loop. Then write an equivalent\n",
    "#         program that prints the numbers 1 to 10 using a while loop.\n",
    "\n",
    "#Ans- \n",
    "print('For loop :')\n",
    "for i in range(11):\n",
    "    print(i)\n",
    "    \n",
    "print('While loop :')\n",
    "i=1\n",
    "while i <= 10:\n",
    "    print(i)\n",
    "    i+=1"
   ]
  },
  {
   "cell_type": "code",
   "execution_count": 13,
   "id": "ddf1da2a",
   "metadata": {},
   "outputs": [],
   "source": [
    "# QUE 13. If you had a function named bacon() inside a module named spam, how would you call it after\n",
    "#         importing spam?\n",
    "\n",
    "#Ans-     this function can be called as after importing spam is spam.bacon()"
   ]
  }
 ],
 "metadata": {
  "kernelspec": {
   "display_name": "Python 3 (ipykernel)",
   "language": "python",
   "name": "python3"
  },
  "language_info": {
   "codemirror_mode": {
    "name": "ipython",
    "version": 3
   },
   "file_extension": ".py",
   "mimetype": "text/x-python",
   "name": "python",
   "nbconvert_exporter": "python",
   "pygments_lexer": "ipython3",
   "version": "3.9.12"
  }
 },
 "nbformat": 4,
 "nbformat_minor": 5
}
