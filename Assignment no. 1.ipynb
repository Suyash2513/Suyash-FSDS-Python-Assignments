{
 "cells": [
  {
   "cell_type": "raw",
   "id": "258b7cd2",
   "metadata": {},
   "source": [
    "QUE 1. In the below elements which of them are values or an expression? eg:- values can be\n",
    "integer or string and expressions will be mathematical operators.\n",
    "\n",
    "Ans-    *      ----------- expression\n",
    "        'hello'----------- values (String)\n",
    "        -87.8  ----------- values (float)\n",
    "        -      ----------- expression\n",
    "        /      ----------- expression\n",
    "        +      ----------- expression\n",
    "        6      ----------- values (integer)"
   ]
  },
  {
   "cell_type": "raw",
   "id": "eccf5ae3",
   "metadata": {},
   "source": [
    "QUE 2. What is the difference between string and variable?\n",
    "\n",
    "Ans-  -String is type of entity which is stored in variable and string is denoted in '____'or\"____\". exampl- \"Suyash\"\n",
    "      -variable is random entity that we can use to store data. Example- x = 12 (here x is variable)"
   ]
  },
  {
   "cell_type": "raw",
   "id": "cb14ff94",
   "metadata": {},
   "source": [
    "QUE 3. Describe three different data types.\n",
    "\n",
    "Ans-  str - string is a datatype in which we store usually alphabatical data. example- \"suyash\"\n",
    "      int - integer is datatype which include the whole numbers. example- 76\n",
    "      float - float is datatype which include numbers with decimal point. example- 23.6\n",
    "      boolean - boolean is logical values datatype. example- True and False"
   ]
  },
  {
   "cell_type": "raw",
   "id": "d7a97b1b",
   "metadata": {},
   "source": [
    "QUE 4. What is an expression made up of? What do all expressions do?\n",
    "\n",
    "Ans- -statement is action or command that does or return something which can be executable.statement consumes value to give       result. for example- print(2*2) #statement\n",
    "      and\n",
    "     -expression is combination of vairale,operation  and values that yields a result value. for example 2*2  #expresion\n",
    "     "
   ]
  },
  {
   "cell_type": "raw",
   "id": "85b58135",
   "metadata": {},
   "source": [
    "QUE 5. This assignment statements, like spam = 10. What is the difference between an expression and a statement?\n",
    "\n",
    "Ans- -statement is action or command that does or return something which can be executable.statement consumes value to give       result. for example- print(2*2) #statement\n",
    "      and\n",
    "     -expression is combination of vairale,operation  and values that yields a result value. for example 2*2  #expresion\n",
    "     \n",
    "     spam = 10 is and expression"
   ]
  },
  {
   "cell_type": "code",
   "execution_count": 1,
   "id": "c3f160c0",
   "metadata": {},
   "outputs": [
    {
     "name": "stdout",
     "output_type": "stream",
     "text": [
      "23\n"
     ]
    }
   ],
   "source": [
    "#QUE 6. After running the following code, what does the variable bacon contain?\n",
    "#       bacon = 22\n",
    "#       bacon + 1\n",
    "\n",
    "#Ans- variable bacon contain integer value 22 . code run is below.\n",
    "bacon = 22\n",
    "print(bacon + 1)"
   ]
  },
  {
   "cell_type": "code",
   "execution_count": 2,
   "id": "15d6bd05",
   "metadata": {},
   "outputs": [
    {
     "name": "stdout",
     "output_type": "stream",
     "text": [
      "spamspamspam\n",
      "spamspamspam\n"
     ]
    }
   ],
   "source": [
    "#QUE 7. What should the values of the following two terms be?\n",
    "#      'spam' + 'spamspam'\n",
    "#      'spam' * 3\n",
    "       \n",
    "#Ans- following are the outputs\n",
    "\n",
    "print('spam' + 'spamspam')\n",
    "print('spam' * 3)"
   ]
  },
  {
   "cell_type": "raw",
   "id": "8de2ce88",
   "metadata": {},
   "source": [
    "QUE 8. Why is eggs a valid variable name while 100 is invalid?\n",
    "\n",
    "Ans-   100 is integer datatype so its invalid and for variable we can take any alphabates,names to store data do eggs is          valid variable"
   ]
  },
  {
   "cell_type": "raw",
   "id": "f840e2e9",
   "metadata": {},
   "source": [
    "QUE 9. What three functions can be used to get the integer, floating-point number, or string version of a value?\n",
    "\n",
    "Ans- int()     for integer\n",
    "     float()   for float\n",
    "     str()     for string+"
   ]
  },
  {
   "cell_type": "code",
   "execution_count": 3,
   "id": "007ac178",
   "metadata": {},
   "outputs": [
    {
     "name": "stdout",
     "output_type": "stream",
     "text": [
      "I have eaten 99 burritos\n"
     ]
    }
   ],
   "source": [
    "#QUE 10. Why does this expression cause an error? How can you fix it?\n",
    "#        'I have eaten '+99+' burritos'\n",
    "        \n",
    "#Ans-  can't concatinate int in string need to covert int into str as '99' so the statement will be print.\n",
    "\n",
    "\n",
    "print('I have eaten '+'99'+' burritos')\n",
    "      "
   ]
  },
  {
   "cell_type": "code",
   "execution_count": null,
   "id": "df083598",
   "metadata": {},
   "outputs": [],
   "source": []
  }
 ],
 "metadata": {
  "kernelspec": {
   "display_name": "Python 3 (ipykernel)",
   "language": "python",
   "name": "python3"
  },
  "language_info": {
   "codemirror_mode": {
    "name": "ipython",
    "version": 3
   },
   "file_extension": ".py",
   "mimetype": "text/x-python",
   "name": "python",
   "nbconvert_exporter": "python",
   "pygments_lexer": "ipython3",
   "version": "3.9.12"
  }
 },
 "nbformat": 4,
 "nbformat_minor": 5
}
